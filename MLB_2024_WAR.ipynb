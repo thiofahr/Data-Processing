{
 "cells": [
  {
   "cell_type": "markdown",
   "id": "edb363f1",
   "metadata": {},
   "source": [
    "# Merge data of each team"
   ]
  },
  {
   "cell_type": "markdown",
   "id": "3da50454",
   "metadata": {},
   "source": [
    "This Python script for analyzing and cleaning WAR (Wins Above Replacement) data of MLB players during the 2024 regular season. The data was obtained from Baseball Reference."
   ]
  },
  {
   "cell_type": "code",
   "execution_count": null,
   "id": "02f84e6e",
   "metadata": {},
   "outputs": [],
   "source": [
    "import pandas as pd \n",
    "import numpy as np"
   ]
  },
  {
   "cell_type": "code",
   "execution_count": null,
   "id": "dcf44315",
   "metadata": {},
   "outputs": [],
   "source": [
    "fname = \"2024_Player_Stats_MLB.xlsx\"\n",
    "\n",
    "xls = pd.ExcelFile(fname)\n",
    "sheets = xls.sheet_names\n",
    "\n",
    "ds = {}\n",
    "\n",
    "for sheet in sheets:\n",
    "    if sheet == 'Team':\n",
    "        team = pd.read_excel(fname, sheet_name=sheet)\n",
    "    else:\n",
    "        open = pd.read_excel(fname, sheet_name=sheet)\n",
    "        open.loc[:, 'Team'] = sheet.split('_')[0]\n",
    "        # add the classification of Pitcher and Batter\n",
    "        if '_P' in sheet:\n",
    "            open.loc[:, 'Func'] = \"Pitching\"\n",
    "        else:\n",
    "            open.loc[:, 'Func'] = \"Batting\"\n",
    "\n",
    "        \n",
    "        ds[sheet] = open.copy()\n",
    "\n",
    "ds = pd.concat([dat for _, dat in ds.items()], ignore_index=True)"
   ]
  },
  {
   "cell_type": "code",
   "execution_count": null,
   "id": "951114ff",
   "metadata": {},
   "outputs": [],
   "source": [
    "# list of MLB teams\n",
    "team_abb = team['Abbrevation'].to_list()"
   ]
  },
  {
   "cell_type": "code",
   "execution_count": null,
   "id": "010c5ac8",
   "metadata": {},
   "outputs": [],
   "source": [
    "dat = ds.copy()"
   ]
  },
  {
   "cell_type": "code",
   "execution_count": null,
   "id": "fcfa7749",
   "metadata": {},
   "outputs": [],
   "source": [
    "# clean the data and also add data order (Y)\n",
    "\n",
    "data = {}\n",
    "\n",
    "for t in team_abb:\n",
    "\n",
    "    mask = (dat['Team'] == t)\n",
    "    copy = dat.loc[mask].copy()\n",
    "    copy = copy.sort_values(by='Player').reset_index(drop=True)\n",
    "    copy.loc[:, 'Order'] = [x for x in range(1, dat.loc[mask].shape[0]+1)] \n",
    "    copy.loc[:, 'Player Name'] = copy['Player'].str.replace(\"#\", \"\").str.replace(\"*\", \"\")\n",
    "    copy.loc[:, 'Y'] = copy.groupby('WAR').cumcount() - (copy.groupby('WAR')['WAR'].transform('size') // 2)\n",
    "    data[t] = copy.copy()\n",
    "\n",
    "data = pd.concat([dat for _, dat in data.items()], ignore_index=True)"
   ]
  },
  {
   "cell_type": "code",
   "execution_count": null,
   "id": "5825046f",
   "metadata": {},
   "outputs": [],
   "source": [
    "# calculate whether a player is qualified for stats ranking (courtesy of MLB rules)\n",
    "def calculate_qualification(pos, app):\n",
    "    fielding = ['1B', '2B', 'SS', '3B', 'LF', 'CF', 'RF','UT', 'CI', 'IF', 'OF']\n",
    "\n",
    "    if pos == 'DH':\n",
    "        return 'Qualified' if app >= 3.1 else \"Not Qualified\" \n",
    "\n",
    "    elif pos in fielding :\n",
    "        return 'Qualified' if app >= 0.67 else \"Not Qualified\" \n",
    "    elif pos == 'C':\n",
    "        if app >= 0.5:\n",
    "            return 'Qualified'\n",
    "        else:\n",
    "            return \"Not Qualified\"\n",
    "        \n",
    "    elif pos == 'RP':\n",
    "        return 'Qualified' if app >= 0.5 else \"Not Qualified\" \n",
    "    \n",
    "    elif pos in ['SP', 'CL']:\n",
    "        return 'Qualified' if app >= 1.0 else \"Not Qualified\" \n",
    "\n",
    "    else:\n",
    "        return \"Not Qualified\""
   ]
  },
  {
   "cell_type": "code",
   "execution_count": null,
   "id": "91c281f6",
   "metadata": {},
   "outputs": [],
   "source": [
    "# calculate appearances per game\n",
    "# PA = plate appearances (for batter) and IP = inning pitching\n",
    "data.loc[:, 'APP'] = np.where(\n",
    "    data['Func'] == 'Batting',\n",
    "    data['PA'] / data['G'],\n",
    "    data['IP'] / data['G'])"
   ]
  },
  {
   "cell_type": "code",
   "execution_count": null,
   "id": "63529cfe",
   "metadata": {},
   "outputs": [],
   "source": [
    "data.loc[:, 'Qualified'] = data.apply(lambda row: calculate_qualification(row.get('Pos'), row['APP']), axis=1)"
   ]
  },
  {
   "cell_type": "code",
   "execution_count": null,
   "id": "0636ef5e",
   "metadata": {},
   "outputs": [],
   "source": [
    "# split the awards column into 6 awards category\n",
    "keys= ['GG', 'SS', 'AS', 'MVP', 'CYA', 'ROY'] # category\n",
    "\n",
    "for key in keys:\n",
    "    if key in ['GG', 'SS', 'AS']:\n",
    "        data.loc[:, key] = np.where(data['Awards'].str.contains(key).replace({None: False}), key, None)\n",
    "    else:\n",
    "        data.loc[:, key] = data['Awards'].str.extract(fr'({key}-\\d+)')[0]"
   ]
  },
  {
   "cell_type": "code",
   "execution_count": null,
   "id": "411fadd0",
   "metadata": {},
   "outputs": [],
   "source": [
    "# combine all the awards into single column\n",
    "def awards(row):\n",
    "    awards_list = []\n",
    "    keys= ['GG', 'SS', 'AS', 'MVP', 'CYA', 'ROY']\n",
    "    for k in keys:\n",
    "        if row[k] != \"nan\":\n",
    "            awards_list.append(row[k])\n",
    "        else:\n",
    "            continue\n",
    "    \n",
    "    return \" / \".join(awards_list)    "
   ]
  },
  {
   "cell_type": "code",
   "execution_count": null,
   "id": "8c577150",
   "metadata": {},
   "outputs": [],
   "source": [
    "import numpy as np\n",
    "\n",
    "keys = ['GG', 'SS', 'AS', 'MVP', 'CYA', 'ROY']\n",
    "for k in keys:\n",
    "    data.loc[:, k] = data[k].replace({np.nan:\"0\"}).astype(str)\n",
    "    print(data[k].unique())"
   ]
  },
  {
   "cell_type": "code",
   "execution_count": null,
   "id": "587c069f",
   "metadata": {},
   "outputs": [],
   "source": [
    "data.loc[:,'Awards List'] = data.apply(lambda row: awards(row) , axis=1)"
   ]
  },
  {
   "cell_type": "code",
   "execution_count": null,
   "id": "37ca7619",
   "metadata": {},
   "outputs": [],
   "source": [
    "data.to_excel('WAR_MLB_2024.xlsx', index=False)"
   ]
  }
 ],
 "metadata": {
  "kernelspec": {
   "display_name": "Python 3",
   "language": "python",
   "name": "python3"
  },
  "language_info": {
   "codemirror_mode": {
    "name": "ipython",
    "version": 3
   },
   "file_extension": ".py",
   "mimetype": "text/x-python",
   "name": "python",
   "nbconvert_exporter": "python",
   "pygments_lexer": "ipython3",
   "version": "3.12.3"
  }
 },
 "nbformat": 4,
 "nbformat_minor": 5
}
