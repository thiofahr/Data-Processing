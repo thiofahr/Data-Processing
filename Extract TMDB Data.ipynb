{
 "cells": [
  {
   "cell_type": "code",
   "execution_count": null,
   "id": "ece33434",
   "metadata": {},
   "outputs": [],
   "source": [
    "import config\n",
    "import requests\n",
    "import pandas as pd\n",
    "import numpy as np"
   ]
  },
  {
   "cell_type": "markdown",
   "id": "74f1ff4d",
   "metadata": {},
   "source": [
    "# Extract movie data"
   ]
  },
  {
   "cell_type": "code",
   "execution_count": null,
   "id": "63493a66",
   "metadata": {},
   "outputs": [],
   "source": [
    "# key and access token from TMDB api\n",
    "api_key = config.api_key\n",
    "token = config.access_token\n",
    "\n",
    "headers = {\n",
    "    \"accept\": \"application/json\",\n",
    "    \"Authorization\": f\"Bearer {token}\"\n",
    "}"
   ]
  },
  {
   "cell_type": "code",
   "execution_count": null,
   "id": "5db52832",
   "metadata": {},
   "outputs": [],
   "source": [
    "# my movie data\n",
    "ds = pd.read_csv(\"ratings.csv\")"
   ]
  },
  {
   "cell_type": "code",
   "execution_count": null,
   "id": "873ec585",
   "metadata": {},
   "outputs": [],
   "source": [
    "# create empty df for movie with no available data\n",
    "no_data = [\"adult\", \"backdrop_path\", \"genre_ids\", \"id\", \"original_language\", \n",
    "           \"original_title\", \"overview\", \"popularity\", \"poster_path\",\n",
    "           \"release_date\", \"title\",\t\"video\", \"vote_average\", \"vote_count\", \"movie\"]\n",
    "no_data = pd.DataFrame(columns=no_data, index=range(1))"
   ]
  },
  {
   "cell_type": "code",
   "execution_count": null,
   "id": "996f5a6e",
   "metadata": {},
   "outputs": [],
   "source": [
    "import warnings\n",
    "warnings.simplefilter(action=\"ignore\", category=pd.errors.SettingWithCopyWarning)\n",
    "\n",
    "df = {}\n",
    "\n",
    "# for movie with many dataframes \n",
    "df2 = {}\n",
    "\n",
    "for i, (idx, value) in enumerate(ds.iterrows()):\n",
    "    movie = value['Name']\n",
    "    year  = value['Year']\n",
    "    \n",
    "    url = f\"https://api.themoviedb.org/3/search/movie?query={movie}&include_adult=false&language=en-US&primary_release_year={year}&page=1\"\n",
    "    response = requests.get(url, headers=headers)\n",
    "\n",
    "    print(f\"{i+1}/{ds.shape[0]}\")\n",
    "\n",
    "    if np.shape(response.json()['results'])[0] == 0:\n",
    "        empty_df = no_data.copy()\n",
    "        empty_df.loc[:, 'movie'] = movie\n",
    "        df[movie] = empty_df\n",
    "\n",
    "    else:\n",
    "        result = pd.DataFrame(response.json()['results'])\n",
    "        movie_data = result.loc[result['title'] == movie]\n",
    "        if movie_data.empty:\n",
    "            result.loc[:, 'movie'] = movie \n",
    "            df2[movie] = result.copy()\n",
    "        else:\n",
    "            movie_data.loc[:,'movie'] = movie\n",
    "            df[movie] = movie_data.copy()"
   ]
  },
  {
   "cell_type": "code",
   "execution_count": null,
   "id": "e628f8aa",
   "metadata": {},
   "outputs": [],
   "source": [
    "db = pd.concat([dat for _,dat in df.items()], ignore_index=True)\n",
    "db2 = pd.concat([dat for _,dat in df2.items()], ignore_index=True)"
   ]
  },
  {
   "cell_type": "code",
   "execution_count": null,
   "id": "ec24bddd",
   "metadata": {},
   "outputs": [],
   "source": [
    "no_data_movie = db.loc[db['adult'].isna(), 'movie'].to_list()"
   ]
  },
  {
   "cell_type": "code",
   "execution_count": null,
   "id": "9b0036d5",
   "metadata": {},
   "outputs": [],
   "source": [
    "db.to_excel('TMDB.xlsx')\n",
    "db2.to_excel('TMDB2.xlsx')"
   ]
  },
  {
   "cell_type": "code",
   "execution_count": null,
   "id": "bb295755",
   "metadata": {},
   "outputs": [],
   "source": [
    "database = pd.read_excel('TMDB.xlsx')"
   ]
  },
  {
   "cell_type": "code",
   "execution_count": null,
   "id": "8617b512",
   "metadata": {},
   "outputs": [],
   "source": [
    "new_list = {}\n",
    "\n",
    "for m in database.loc[database['original_title'].isna(), 'movie']:\n",
    "    if m == \"A Brother and 7 Siblings\":\n",
    "        m = \"1 Kakak 7 Ponakan\"\n",
    "    url = f\"https://api.themoviedb.org/3/search/movie?query={m}&include_adult=false&language=en-US&page=1\"\n",
    "    response = requests.get(url, headers=headers)\n",
    "    res = response.json()['results']\n",
    "    new_list[m] = res\n",
    "    if np.shape(res)[0] == 0:\n",
    "        print(m)"
   ]
  },
  {
   "cell_type": "code",
   "execution_count": null,
   "id": "3f930a1f",
   "metadata": {},
   "outputs": [],
   "source": [
    "new_db = pd.concat(\n",
    "    [pd.DataFrame(dat) if isinstance(dat, list) else dat for dat in new_list.values()],\n",
    "    ignore_index=True\n",
    ")"
   ]
  },
  {
   "cell_type": "code",
   "execution_count": null,
   "id": "149223a9",
   "metadata": {},
   "outputs": [],
   "source": [
    "new_db.to_excel(\"TMDB3.xlsx\")"
   ]
  },
  {
   "cell_type": "markdown",
   "id": "5da02a8a",
   "metadata": {},
   "source": [
    "# Extract movie genre data"
   ]
  },
  {
   "cell_type": "code",
   "execution_count": null,
   "id": "d908453c",
   "metadata": {},
   "outputs": [],
   "source": [
    "url = f\"https://api.themoviedb.org/3/genre/movie/list?\"\n",
    "response = requests.get(url, headers=headers)\n",
    "\n",
    "movie_genre = pd.DataFrame(response.json()['genres'])\n",
    "movie_genre.to_excel('TMDB_genre.xlsx', index=False)"
   ]
  },
  {
   "cell_type": "markdown",
   "id": "98ac22ce",
   "metadata": {},
   "source": [
    "# After manual changes in TMDB data\n",
    "Because each movie can have multiple entries due to the same name or multiple existing database, the data have to be manually cleaned in Excel"
   ]
  },
  {
   "cell_type": "code",
   "execution_count": null,
   "id": "0d66bc74",
   "metadata": {},
   "outputs": [],
   "source": [
    "database = pd.read_excel(\"TMDB.xlsx\")"
   ]
  },
  {
   "cell_type": "markdown",
   "id": "781f8549",
   "metadata": {},
   "source": [
    "## Edit the Genre data"
   ]
  },
  {
   "cell_type": "code",
   "execution_count": null,
   "id": "c19f23cf",
   "metadata": {},
   "outputs": [],
   "source": [
    "genre = pd.read_excel(\"TMDB_genre.xlsx\")"
   ]
  },
  {
   "cell_type": "code",
   "execution_count": null,
   "id": "bfc73ef4",
   "metadata": {},
   "outputs": [],
   "source": [
    "database['genre_ids'] = database['genre_ids'].str.replace(' ', '').str.split(',')"
   ]
  },
  {
   "cell_type": "code",
   "execution_count": null,
   "id": "dee053bf",
   "metadata": {},
   "outputs": [],
   "source": [
    "def movie_genre_apply(data):\n",
    "    genre_list = []\n",
    "    \n",
    "    if type(data) == float:\n",
    "        return \" \"\n",
    "    else:\n",
    "        for i in data:\n",
    "            genre_list.append(genre.loc[genre[\"id\"] == np.int64(i), 'name'])\n",
    "        genre_list = np.array(genre_list).flatten()\n",
    "        return genre_list"
   ]
  },
  {
   "cell_type": "code",
   "execution_count": null,
   "id": "27d0bb89",
   "metadata": {},
   "outputs": [],
   "source": [
    "# database['genre'] = database['genre_ids'].apply(lambda x: movie_genre_apply(x)).apply(\n",
    "#     lambda x: \", \".join(map(str, x))\n",
    "# )"
   ]
  },
  {
   "cell_type": "code",
   "execution_count": null,
   "id": "847522da",
   "metadata": {},
   "outputs": [],
   "source": [
    "# check whether there is movie with multiple data\n",
    "for t in np.sort(database['title'].unique().tolist()):\n",
    "    dbt = database.loc[database['title'] == t]\n",
    "    if dbt.shape[0] > 1:\n",
    "        print(t)"
   ]
  },
  {
   "cell_type": "code",
   "execution_count": null,
   "id": "a100efda",
   "metadata": {},
   "outputs": [],
   "source": [
    "database['id'] = database['id'].astype('Int64')"
   ]
  },
  {
   "cell_type": "code",
   "execution_count": null,
   "id": "0c9c1272",
   "metadata": {},
   "outputs": [],
   "source": [
    "movie_id = database.loc[0, 'id']"
   ]
  },
  {
   "cell_type": "markdown",
   "id": "683bc236",
   "metadata": {},
   "source": [
    "## Extract detailed information for each movie"
   ]
  },
  {
   "cell_type": "code",
   "execution_count": null,
   "id": "c0b3a37d",
   "metadata": {},
   "outputs": [],
   "source": [
    "details = {}"
   ]
  },
  {
   "cell_type": "code",
   "execution_count": null,
   "id": "2d14cb59",
   "metadata": {},
   "outputs": [],
   "source": [
    "for i, movie_id in  enumerate(database['id']):\n",
    "    url = f\"https://api.themoviedb.org/3/movie/{movie_id}?language=en-US\"\n",
    "\n",
    "    response = requests.get(url, headers=headers)\n",
    "    results = response.json()\n",
    "    details[movie_id] = pd.DataFrame([results])\n",
    "    print(f\"{i+1}/{database['id'].shape[0]}\")"
   ]
  },
  {
   "cell_type": "code",
   "execution_count": null,
   "id": "d4cc29de",
   "metadata": {},
   "outputs": [],
   "source": [
    "movie_details = pd.concat([dat for _, dat in details.items()], ignore_index=True)"
   ]
  },
  {
   "cell_type": "code",
   "execution_count": null,
   "id": "829b9678",
   "metadata": {},
   "outputs": [],
   "source": [
    "movie_details.to_excel('TMDB_details.xlsx', index=False)"
   ]
  },
  {
   "cell_type": "code",
   "execution_count": null,
   "id": "76cdb374",
   "metadata": {},
   "outputs": [],
   "source": [
    "cols  = ['budget', 'homepage', 'id', 'imdb_id', 'origin_country', 'original_language', \n",
    "         'release_date', 'revenue', 'runtime', 'spoken_languages', 'tagline', 'title', ]\n",
    "\n",
    "detail_db = movie_details[[col for col in movie_details if col in cols]].copy()"
   ]
  },
  {
   "cell_type": "code",
   "execution_count": null,
   "id": "742ea832",
   "metadata": {},
   "outputs": [],
   "source": [
    "detail_db['origin_country'] =  detail_db['origin_country'].apply(lambda x: \", \".join(x) if isinstance(x, list) else x)"
   ]
  },
  {
   "cell_type": "code",
   "execution_count": null,
   "id": "6db933b2",
   "metadata": {},
   "outputs": [],
   "source": [
    "detail_db[\"spoken_languages\"] = detail_db[\"spoken_languages\"].apply(\n",
    "    lambda x: \", \".join([d.get(\"english_name\", \"\") for d in x]) if isinstance(x, list) else x\n",
    ")"
   ]
  },
  {
   "cell_type": "code",
   "execution_count": null,
   "id": "9d62cca6",
   "metadata": {},
   "outputs": [],
   "source": [
    "detail_db.to_excel('TMDB_Detail.xlsx', index=False)"
   ]
  },
  {
   "cell_type": "markdown",
   "id": "33009656",
   "metadata": {},
   "source": [
    "## Extract cast and crew data"
   ]
  },
  {
   "cell_type": "code",
   "execution_count": null,
   "id": "658bf26b",
   "metadata": {},
   "outputs": [],
   "source": [
    "crew_dict = {}\n",
    "cast_dict = {}\n",
    "\n",
    "no_entries = {}\n",
    "\n",
    "for i, (movie_id, movie_name) in database[['id', 'movie']].iterrows():\n",
    "\n",
    "    print(f\"{i+1}/{database['id'].shape[0]}\")\n",
    "\n",
    "    url = f\"https://api.themoviedb.org/3/movie/{movie_id}/credits?language=en-US\"\n",
    "\n",
    "\n",
    "    response = requests.get(url, headers=headers)\n",
    "\n",
    "    ex = pd.DataFrame([response.json()])\n",
    "    if 'success' in ex.columns:\n",
    "        continue\n",
    "\n",
    "    else:\n",
    "        open_cast = pd.DataFrame(ex['cast'][0])\n",
    "        if np.shape(ex['cast'][0])[0] != 0:\n",
    "            open_cast.loc[:, 'movie_id'] = movie_id \n",
    "            open_cast.loc[:, 'movie_name'] = movie_name \n",
    "            cast_dict[movie_id] = open_cast.copy()\n",
    "        \n",
    "        open_crew = pd.DataFrame(ex['crew'][0])\n",
    "        if np.shape(ex['crew'][0])[0] != 0:\n",
    "            open_crew.loc[:, 'movie'] = movie_name \n",
    "            open_crew.loc[:, 'movie_id'] = movie_id     \n",
    "        \n",
    "            crew_dict[movie_id] = open_crew.copy()\n",
    "    \n",
    "    \n",
    "\n",
    "crew_dict = pd.concat([dat for _,dat in crew_dict.items()], ignore_index=True)\n",
    "cast_dict = pd.concat([dat for _,dat in cast_dict.items()], ignore_index=True)"
   ]
  },
  {
   "cell_type": "code",
   "execution_count": null,
   "id": "08a25ad1",
   "metadata": {},
   "outputs": [],
   "source": [
    "crew_dict.to_excel('TMDB_Crew_Raw.xlsx', index=False)\n",
    "cast_dict.to_excel('TMDB_Cast_Raw.xlsx', index=False)"
   ]
  },
  {
   "cell_type": "code",
   "execution_count": null,
   "id": "ece5a130",
   "metadata": {},
   "outputs": [],
   "source": [
    "# Obtain only the main casts\n",
    "def group_cast(movie_id):\n",
    "\n",
    "    mask = (cast_dict['order'] <= 2) & (cast_dict['movie_id'] == movie_id)\n",
    "\n",
    "    df = cast_dict.loc[mask]\n",
    "    if df.shape[0] == 0:\n",
    "        return None \n",
    "    else:\n",
    "        return \", \".join(df['name'].tolist())\n",
    "\n",
    "database['main cast'] = database['id'].apply(lambda x: group_cast(x))"
   ]
  },
  {
   "cell_type": "code",
   "execution_count": null,
   "id": "4490cb42",
   "metadata": {},
   "outputs": [],
   "source": [
    "# Extract information on main crew (director, composer, DoP)\n",
    "def search_crew(x, job):\n",
    "    mask = (crew_dict['job'] == job) & (crew_dict['movie_id'] == x)\n",
    "    search = crew_dict.loc[mask, 'name'].values \n",
    "    num = search.shape[0]\n",
    "    if num == 0:\n",
    "        return None \n",
    "    elif num == 1:\n",
    "        return search[0]\n",
    "    else:\n",
    "        return \", \".join(search)"
   ]
  },
  {
   "cell_type": "code",
   "execution_count": null,
   "id": "530628a8",
   "metadata": {},
   "outputs": [],
   "source": [
    "database.loc[:,'Director'] = database['id'].apply(lambda x: search_crew(x, 'Director'))\n",
    "database.loc[:, 'Composer'] = database['id'].apply(lambda x: search_crew(x, 'Original Music Composer'))\n",
    "database.loc[:, 'DoP'] = database['id'].apply(lambda x: search_crew(x, 'Director of Photography'))"
   ]
  },
  {
   "cell_type": "code",
   "execution_count": null,
   "id": "ea3ba6ce",
   "metadata": {},
   "outputs": [],
   "source": [
    "database.to_excel('TMDB.xlsx', index=False)"
   ]
  },
  {
   "cell_type": "markdown",
   "id": "a8523877",
   "metadata": {},
   "source": [
    "## Add movie order based on the rating"
   ]
  },
  {
   "cell_type": "code",
   "execution_count": null,
   "id": "fedc9975",
   "metadata": {},
   "outputs": [],
   "source": [
    "ds.loc[:,'Order'] = ds.groupby('Rating').cumcount() - \\\n",
    "    (ds.groupby('Rating')['Rating'].transform('size') // 2)\n",
    "\n",
    "ds[['Name', 'Rating', 'Order']].copy().to_csv('ratings_order.csv', index=False)"
   ]
  }
 ],
 "metadata": {
  "kernelspec": {
   "display_name": "Python 3",
   "language": "python",
   "name": "python3"
  },
  "language_info": {
   "codemirror_mode": {
    "name": "ipython",
    "version": 3
   },
   "file_extension": ".py",
   "mimetype": "text/x-python",
   "name": "python",
   "nbconvert_exporter": "python",
   "pygments_lexer": "ipython3",
   "version": "3.12.3"
  }
 },
 "nbformat": 4,
 "nbformat_minor": 5
}
